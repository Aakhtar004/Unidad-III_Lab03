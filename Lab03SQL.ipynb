{
    "cells": [
        {
            "cell_type": "markdown",
            "metadata": {
                "azdata_cell_guid": "da56dd7e-b893-4a86-8522-2fcf4dee8da5"
            },
            "source": [
                "<h1><center>Laboratorio N° 03: Pivoting y Grouping Sets"
            ]
        },
        {
            "cell_type": "markdown",
            "metadata": {
                "azdata_cell_guid": "9770c61e-a315-425c-a850-5cbb70ca9eb8"
            },
            "source": [
                "<h2>Parte 01. Escribir consultas que utilizan PIVOT."
            ]
        },
        {
            "cell_type": "markdown",
            "metadata": {
                "azdata_cell_guid": "7236b200-cd41-4b04-9f2d-68cb7c3dc9c5"
            },
            "source": [
                "1.1. Abrir la base de datos TSQL."
            ]
        },
        {
            "cell_type": "code",
            "execution_count": null,
            "metadata": {
                "azdata_cell_guid": "8ebcbaac-806f-46d2-ab33-32516a9d26e1"
            },
            "outputs": [],
            "source": [
                "USE TSQL;\n",
                "GO"
            ]
        },
        {
            "cell_type": "markdown",
            "metadata": {
                "azdata_cell_guid": "1eba00bd-8865-4c5b-b9df-a832f6be43c2"
            },
            "source": [
                "1.2. Crear un vista de categorías de productos, sus cantidaddes por año."
            ]
        },
        {
            "cell_type": "code",
            "execution_count": null,
            "metadata": {
                "azdata_cell_guid": "35654719-1212-4521-b547-3dc388e7e888"
            },
            "outputs": [],
            "source": []
        },
        {
            "cell_type": "markdown",
            "metadata": {
                "azdata_cell_guid": "4091e1d7-ba9f-4df1-9b3f-5133da270abc"
            },
            "source": [
                "1.3. Probar la vista creada."
            ]
        },
        {
            "cell_type": "code",
            "execution_count": null,
            "metadata": {
                "azdata_cell_guid": "4d6bc0ec-0033-4cb3-9f2f-48563fb15438"
            },
            "outputs": [],
            "source": []
        },
        {
            "cell_type": "markdown",
            "metadata": {
                "azdata_cell_guid": "85b03d3a-82d5-4cd2-b9a5-9277248759f1"
            },
            "source": [
                "1.4. Utilizar PIVOT entre categorías y años de ordenes."
            ]
        },
        {
            "cell_type": "code",
            "execution_count": null,
            "metadata": {
                "azdata_cell_guid": "d4e9eb57-5d1a-41f3-b5d5-b5eb194be12b"
            },
            "outputs": [],
            "source": []
        },
        {
            "cell_type": "markdown",
            "metadata": {
                "azdata_cell_guid": "d9d3a7a0-a061-4c82-9056-3b2f727f6c2d"
            },
            "source": [
                "1.5. Para utilizar UNPIVOT, crear una tabla con el resultado de la consulta con PIVOT anterior."
            ]
        },
        {
            "cell_type": "code",
            "execution_count": null,
            "metadata": {
                "azdata_cell_guid": "5963cd3e-f1b3-4eaf-9c71-8d903dd35c2f"
            },
            "outputs": [],
            "source": []
        },
        {
            "cell_type": "markdown",
            "metadata": {
                "azdata_cell_guid": "fdf1f380-33b1-4355-99dc-207bbf3eb3f3"
            },
            "source": [
                "1.6. Probrar la tabla generada"
            ]
        },
        {
            "cell_type": "code",
            "execution_count": null,
            "metadata": {
                "azdata_cell_guid": "4407f21f-1c35-4c00-978a-0d24fc18d9f1"
            },
            "outputs": [],
            "source": []
        },
        {
            "cell_type": "markdown",
            "metadata": {
                "azdata_cell_guid": "9728a179-da73-4a88-b211-101133f579b9"
            },
            "source": [
                "1.7. Utilizar UNPIVOT."
            ]
        },
        {
            "cell_type": "code",
            "execution_count": null,
            "metadata": {
                "azdata_cell_guid": "0978b805-570c-4f50-a9cf-9407380d5b77"
            },
            "outputs": [],
            "source": []
        },
        {
            "cell_type": "markdown",
            "metadata": {
                "azdata_cell_guid": "9994c491-0aec-4ea9-8377-28ec148dee10"
            },
            "source": [
                "1.8. Limpiar los cambios realizados.\n"
            ]
        },
        {
            "cell_type": "code",
            "execution_count": null,
            "metadata": {
                "azdata_cell_guid": "4a2545cb-5f07-49c6-b014-98ff46b462a3"
            },
            "outputs": [],
            "source": []
        },
        {
            "cell_type": "markdown",
            "metadata": {
                "azdata_cell_guid": "cb39f4dd-5700-4d3d-8889-26973f87afd9"
            },
            "source": [
                "<h2>Parte 02. Escribir consultas que utilizan UNPIVOT."
            ]
        },
        {
            "cell_type": "markdown",
            "metadata": {
                "azdata_cell_guid": "7b698689-fe92-4cb3-8566-c4fd07ebcbc6"
            },
            "source": [
                "2.1. Ejecutar la siguiente vistas"
            ]
        },
        {
            "cell_type": "code",
            "execution_count": null,
            "metadata": {
                "azdata_cell_guid": "3b82c483-6f9b-471b-bd5a-83b87fc8fc5e"
            },
            "outputs": [],
            "source": []
        },
        {
            "cell_type": "markdown",
            "metadata": {
                "azdata_cell_guid": "383e30cc-53f8-4a51-bfed-6685c49eac05"
            },
            "source": [
                "2.2. Elaborar una consulta sin utilizar GROUPING SETS."
            ]
        },
        {
            "cell_type": "code",
            "execution_count": null,
            "metadata": {
                "azdata_cell_guid": "e051ce03-75a7-4298-8bd9-d55868dbbd6a"
            },
            "outputs": [],
            "source": []
        },
        {
            "cell_type": "markdown",
            "metadata": {
                "azdata_cell_guid": "cfd769d7-265e-44cd-ae72-69d5d6db9fc7"
            },
            "source": [
                "2.3. Consultar con GROUPING SETS."
            ]
        },
        {
            "cell_type": "code",
            "execution_count": null,
            "metadata": {
                "azdata_cell_guid": "13796b1e-26c4-4ea6-882e-c29a99639b74"
            },
            "outputs": [],
            "source": []
        },
        {
            "cell_type": "markdown",
            "metadata": {
                "azdata_cell_guid": "73732a9d-6e0a-43ef-92ab-d3b4ac5406bc"
            },
            "source": [
                "2.4. Consultar con CUBE."
            ]
        },
        {
            "cell_type": "code",
            "execution_count": null,
            "metadata": {
                "azdata_cell_guid": "d75d796c-991a-48a8-a4e2-e940994cf072"
            },
            "outputs": [],
            "source": []
        },
        {
            "cell_type": "markdown",
            "metadata": {
                "azdata_cell_guid": "87ec1ad2-5d1c-4312-b5a5-4cb8549edfa4"
            },
            "source": [
                "2.5. Consultar con ROLLUP"
            ]
        },
        {
            "cell_type": "code",
            "execution_count": null,
            "metadata": {
                "azdata_cell_guid": "0ecd46f2-9dff-4b0f-bca3-8894037cbf86"
            },
            "outputs": [],
            "source": []
        },
        {
            "cell_type": "markdown",
            "metadata": {
                "azdata_cell_guid": "95beaec3-498d-4110-a858-dc128ba98721"
            },
            "source": [
                "2.6. Utilizar Grouping_ID."
            ]
        },
        {
            "cell_type": "code",
            "execution_count": null,
            "metadata": {
                "azdata_cell_guid": "070a7d05-65b4-4462-abc0-e6c9fe42f696"
            },
            "outputs": [],
            "source": []
        },
        {
            "cell_type": "markdown",
            "metadata": {
                "azdata_cell_guid": "87838adf-1c7d-4018-a25a-fcc421d7c696"
            },
            "source": [
                "2.7. Finalmente limpiar los cambios"
            ]
        },
        {
            "cell_type": "code",
            "execution_count": null,
            "metadata": {
                "azdata_cell_guid": "159ecd9b-0646-4c26-86b2-11493faab768"
            },
            "outputs": [],
            "source": []
        },
        {
            "cell_type": "markdown",
            "metadata": {
                "azdata_cell_guid": "3c5fcf6d-cc71-466d-9bdc-f0cd030dc652"
            },
            "source": [
                "<h2>Ejercicio 03: Escribir consultas que usan las clausulas GROUPING SETS, CUBE y ROLLUP"
            ]
        },
        {
            "cell_type": "markdown",
            "metadata": {
                "azdata_cell_guid": "0d43c9b9-784c-41a4-b181-677c5241510d"
            },
            "source": [
                "3.1. Escribir una sentencia SELECT contra la tabla Sales.Customers y traer las columnas country, city\n",
                "y una columna calculada noofcustomers como una cantidad de clientes. Traer multiples grouping\n",
                "sets basados en las columnas country y city, la columna country, la columna city, y una columna con un grouping set vacio."
            ]
        },
        {
            "cell_type": "code",
            "execution_count": null,
            "metadata": {
                "azdata_cell_guid": "ae6a8d7e-e062-4ec1-a98f-9034f7efb789"
            },
            "outputs": [],
            "source": []
        },
        {
            "cell_type": "markdown",
            "metadata": {
                "azdata_cell_guid": "717340d3-174a-4ed4-9348-d0f4e4563eb8"
            },
            "source": [
                "3.2. Escribir una sentencia SELECT contra la vista Sales.OrderValues y traer las columnas:\n",
                "<li>Año de la columna orderdate como orderyear.\n",
                "<li>Mes de la columna orderdate como ordermonth.\n",
                "<li>Día de la columna orderdate como orderday.\n",
                "<li>Valor de Total de Ventas utilizando la columna val como salesvalue.\n",
                "<li>Devolver todas los posibles  grouping sets basados en las columnas orderyear, ordermonth, y orderday."
            ]
        },
        {
            "cell_type": "code",
            "execution_count": null,
            "metadata": {
                "azdata_cell_guid": "d410f43f-54dd-43a1-bbd7-0e175e18b36c"
            },
            "outputs": [],
            "source": []
        },
        {
            "cell_type": "markdown",
            "metadata": {
                "azdata_cell_guid": "44e193a2-e9d5-4a51-875f-d6c60a921bde"
            },
            "source": [
                "3.3. Copiar la consulta previa y modificarla para utilizar la clausula ROLLUP en vez de CUBE."
            ]
        },
        {
            "cell_type": "code",
            "execution_count": null,
            "metadata": {
                "azdata_cell_guid": "ef4b0d49-20c9-40a7-a7fa-b4fe76b0a8d0"
            },
            "outputs": [],
            "source": []
        },
        {
            "cell_type": "markdown",
            "metadata": {
                "azdata_cell_guid": "ed464c7b-75a0-4736-a5c4-49358191994e"
            },
            "source": [
                "3.4. Escribir una sentencia SELECT contra la vista Sales.OrderValues y traer las columnas:\n",
                "<li>Columna Calculada con el alias groupid (usar la función GROUPING_ID con los campos order year y order month como parametros).\n",
                "<li>Año de la columna orderdate como orderyear.\n",
                "<li>Mes de la columna orderdate como ordermonth.\n",
                "<li>Valor Total de Ventas utilizando la columna val como salesvalue.\n",
                "<li>Desde Año y mes month forman una jerarquia, retornar todos los grouping sets interesantes basados en las columnas orderyear y ordermonth y ordenar el resultado por groupid, orderyear, and ordermonth"
            ]
        }
    ],
    "metadata": {
        "kernelspec": {
            "display_name": "SQL",
            "language": "sql",
            "name": "SQL"
        },
        "language_info": {
            "name": "sql",
            "version": ""
        }
    },
    "nbformat": 4,
    "nbformat_minor": 2
}
